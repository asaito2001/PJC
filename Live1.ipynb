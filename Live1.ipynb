{
  "nbformat": 4,
  "nbformat_minor": 0,
  "metadata": {
    "colab": {
      "name": "Live1.ipynb",
      "provenance": [],
      "collapsed_sections": [],
      "authorship_tag": "ABX9TyP7AiLJ183rA227h5Hm5pxo",
      "include_colab_link": true
    },
    "kernelspec": {
      "name": "python3",
      "display_name": "Python 3"
    },
    "language_info": {
      "name": "python"
    }
  },
  "cells": [
    {
      "cell_type": "markdown",
      "metadata": {
        "id": "view-in-github",
        "colab_type": "text"
      },
      "source": [
        "<a href=\"https://colab.research.google.com/github/asaito2001/PJC/blob/develop/Live1.ipynb\" target=\"_parent\"><img src=\"https://colab.research.google.com/assets/colab-badge.svg\" alt=\"Open In Colab\"/></a>"
      ]
    },
    {
      "cell_type": "code",
      "metadata": {
        "id": "ACtFmgDzuQmK"
      },
      "source": [
        "Se idade maior que ou igual a 18 anos e menor que 70 anos \n",
        "então é obrigado a votar"
      ],
      "execution_count": null,
      "outputs": []
    },
    {
      "cell_type": "code",
      "metadata": {
        "colab": {
          "base_uri": "https://localhost:8080/"
        },
        "id": "yc1HpA_3wkcu",
        "outputId": "59a1dbd4-9c76-46d6-95d9-0480fb2eb007"
      },
      "source": [
        "idade = 45\n",
        "if idade >= 18 and idade < 70:\n",
        "  print(\"é obrigado a votar\")"
      ],
      "execution_count": null,
      "outputs": [
        {
          "output_type": "stream",
          "text": [
            "é obrigado a votar\n"
          ],
          "name": "stdout"
        }
      ]
    },
    {
      "cell_type": "markdown",
      "metadata": {
        "id": "jATHSeFDfcWb"
      },
      "source": [
        "# Variáveis e tipos de dados"
      ]
    },
    {
      "cell_type": "code",
      "metadata": {
        "id": "1Oi3uuOzfrOf"
      },
      "source": [
        "# int integer - inteiro\n",
        "dia = 23\n",
        "\n",
        "# float floating point - ponto flutuante\n",
        "valor = 42.98765443\n",
        "\n",
        "# str string - texto (string of character - cadeia de caracteres)\n",
        "fruta = 'abacaxi'\n",
        "mensagem = \"sou uma string válida\"\n",
        "\n",
        "# bool boolean - booleano\n",
        "situacao_regular = False"
      ],
      "execution_count": null,
      "outputs": []
    },
    {
      "cell_type": "markdown",
      "metadata": {
        "id": "-LeYvoV-iaSc"
      },
      "source": [
        "# Saída de Dados - print"
      ]
    },
    {
      "cell_type": "code",
      "metadata": {
        "colab": {
          "base_uri": "https://localhost:8080/"
        },
        "id": "bGCbRKSDij12",
        "outputId": "6a4e1d90-0de4-4484-9315-870508541fe7"
      },
      "source": [
        "# Exibindo os valores das variáveis na tela\n",
        "print(dia)\n",
        "print(valor)\n",
        "print(mensagem)\n",
        "print(situacao_regular)\n",
        "print(\"Hoje a noite não tem luar... E eu estou sem ela...\")"
      ],
      "execution_count": null,
      "outputs": [
        {
          "output_type": "stream",
          "text": [
            "23\n",
            "42.98765443\n",
            "sou uma string válida\n",
            "False\n",
            "Hoje a noite não tem luar... E eu estou sem ela...\n"
          ],
          "name": "stdout"
        }
      ]
    },
    {
      "cell_type": "markdown",
      "metadata": {
        "id": "kjS_l24nkDiO"
      },
      "source": [
        "# Controle de Fluxo (if, else, elif)"
      ]
    },
    {
      "cell_type": "code",
      "metadata": {
        "colab": {
          "base_uri": "https://localhost:8080/"
        },
        "id": "Hl9nUw6zkOh9",
        "outputId": "0f0bc1ba-f1e3-4e25-bef5-6dcd6a6d5a6e"
      },
      "source": [
        "situacao_regular = False\n",
        "if situacao_regular:\n",
        "  print(\"A condição é verdadeira\")\n",
        "  print(* + 2)\n",
        "else:\n",
        "  print(\"A condição é falsa!!\")\n",
        "\n",
        "print(\"fora do if\")"
      ],
      "execution_count": null,
      "outputs": [
        {
          "output_type": "stream",
          "text": [
            "A condição é falsa!!\n",
            "fora do if\n"
          ],
          "name": "stdout"
        }
      ]
    },
    {
      "cell_type": "code",
      "metadata": {
        "colab": {
          "base_uri": "https://localhost:8080/"
        },
        "id": "Tk62WMkFlZyR",
        "outputId": "7041c9a4-8198-4b1e-efc2-6ce93426b032"
      },
      "source": [
        "idade = 34\n",
        "if idade >= 18 and idade < 70:\n",
        "  print(\"É obrigado a votar\")\n",
        "elif idade >= 16: # or idade >= 70\n",
        "  print(\"Voto é facultativo\")\n",
        "else:\n",
        "  print(\"Não pode votar\")"
      ],
      "execution_count": null,
      "outputs": [
        {
          "output_type": "stream",
          "text": [
            "É obrigado a votar\n"
          ],
          "name": "stdout"
        }
      ]
    },
    {
      "cell_type": "markdown",
      "metadata": {
        "id": "1yYgmncWolOF"
      },
      "source": [
        "# Operações com dados"
      ]
    },
    {
      "cell_type": "code",
      "metadata": {
        "colab": {
          "base_uri": "https://localhost:8080/"
        },
        "id": "Dp__IuYkoqCA",
        "outputId": "1430e670-25a2-4bf0-b198-84c34c9d537d"
      },
      "source": [
        "print(4 + 7)\n",
        "print(42 / 5)\n",
        "print(42 // 5) # divisão devolve a parte inteira\n",
        "print(42 % 5) # retorna o módulo da divisão\n",
        "\n",
        "print('abacaxi' + 'raposa')\n",
        "print('abacaxi' + '4')"
      ],
      "execution_count": null,
      "outputs": [
        {
          "output_type": "stream",
          "text": [
            "11\n",
            "8.4\n",
            "8\n",
            "2\n",
            "abacaxiraposa\n",
            "abacaxi4\n"
          ],
          "name": "stdout"
        }
      ]
    },
    {
      "cell_type": "markdown",
      "metadata": {
        "id": "0z0RYG5bpazs"
      },
      "source": [
        "# Conversões de tipos de dados"
      ]
    },
    {
      "cell_type": "code",
      "metadata": {
        "colab": {
          "base_uri": "https://localhost:8080/"
        },
        "id": "-GgJw03TpeF3",
        "outputId": "36c224e4-559d-4b1c-e1bb-0203b2f8e469"
      },
      "source": [
        "numero = '4'\n",
        "print(int(numero) + 7)\n",
        "print(float(numero) + 7)\n",
        "print(str(7) + ' biscoito'+'s')"
      ],
      "execution_count": null,
      "outputs": [
        {
          "output_type": "stream",
          "text": [
            "11\n",
            "11.0\n",
            "7 biscoitos\n"
          ],
          "name": "stdout"
        }
      ]
    },
    {
      "cell_type": "code",
      "metadata": {
        "colab": {
          "base_uri": "https://localhost:8080/"
        },
        "id": "LZrG6ImfqHtA",
        "outputId": "864471f3-d8cf-4096-eafd-11f2bf60cbc4"
      },
      "source": [
        "# Exbir o tipo de dados das variávei\n",
        "print(type(7))\n",
        "print(type(82.3))\n",
        "print(type('python'))\n",
        "print(type(True))"
      ],
      "execution_count": null,
      "outputs": [
        {
          "output_type": "stream",
          "text": [
            "<class 'int'>\n",
            "<class 'float'>\n",
            "<class 'str'>\n",
            "<class 'bool'>\n"
          ],
          "name": "stdout"
        }
      ]
    },
    {
      "cell_type": "markdown",
      "metadata": {
        "id": "j3hfuVsFuC82"
      },
      "source": [
        "# Entrada de dados"
      ]
    },
    {
      "cell_type": "code",
      "metadata": {
        "colab": {
          "base_uri": "https://localhost:8080/"
        },
        "id": "TVmFL-HAuGA7",
        "outputId": "78e7e57c-f8d3-4527-d8bf-a84cfa9aec36"
      },
      "source": [
        "numero = input('Digite um número: ')\n",
        "numero = int(numero)\n",
        "print(numero + 4)"
      ],
      "execution_count": null,
      "outputs": [
        {
          "output_type": "stream",
          "text": [
            "Digite um número: 4\n",
            "8\n"
          ],
          "name": "stdout"
        }
      ]
    },
    {
      "cell_type": "code",
      "metadata": {
        "colab": {
          "base_uri": "https://localhost:8080/"
        },
        "id": "0AKX7vbUvzkd",
        "outputId": "251bb504-17d0-43d6-b30f-1a6ce18b43c6"
      },
      "source": [
        "idade = input(\"Digite sua idade: \")\n",
        "idade = int(idade)\n",
        "\n",
        "if idade >= 18 and idade < 70:\n",
        "  print(\"é obrigado a votar\")\n",
        "elif idade >=16:\n",
        "  print(\"voto facultativo\")\n",
        "else:\n",
        "  print(\"NÃO pode votar\")"
      ],
      "execution_count": null,
      "outputs": [
        {
          "output_type": "stream",
          "text": [
            "Digite sua idade: 10\n",
            "NÃO pode votar\n"
          ],
          "name": "stdout"
        }
      ]
    },
    {
      "cell_type": "markdown",
      "metadata": {
        "id": "CtDH6tYwwzHY"
      },
      "source": [
        "# Formatação de Strings"
      ]
    },
    {
      "cell_type": "code",
      "metadata": {
        "colab": {
          "base_uri": "https://localhost:8080/"
        },
        "id": "kEK6iDf4w20j",
        "outputId": "8c110457-7d18-4fa8-ce28-7b99eabc081f"
      },
      "source": [
        "idade = 29\n",
        "print(\"Com \" + str(idade) + \" anos, você é obrigado a votar\")\n",
        "print(\"Com\", idade, \"anos, você é obrigado a votar\")\n",
        "# formatação de string\n",
        "print(f\"Com {idade} anos, você é obrigado a votar\")"
      ],
      "execution_count": null,
      "outputs": [
        {
          "output_type": "stream",
          "text": [
            "Com 29 anos, você é obrigado a votar\n",
            "Com 29 anos, você é obrigado a votar\n",
            "Com 29 anos, você é obrigado a votar\n"
          ],
          "name": "stdout"
        }
      ]
    },
    {
      "cell_type": "code",
      "metadata": {
        "colab": {
          "base_uri": "https://localhost:8080/"
        },
        "id": "2tkJFoC1yRwj",
        "outputId": "d80a3b67-eccf-4eb3-841e-ad9d4e5cfe09"
      },
      "source": [
        "idade = input(\"Digite sua idade: \")\n",
        "idade = int(idade)\n",
        "\n",
        "if idade >= 18 and idade < 70:\n",
        "  print(f\"Com {idade} anos, seu voto é obrigatório\")\n",
        "elif idade >=16:\n",
        "  print(f\"Com {idade} anos, seu voto facultativo\")\n",
        "else:\n",
        "  print(f\"Com {idade} anos, você NÃO pode votar\")"
      ],
      "execution_count": null,
      "outputs": [
        {
          "output_type": "stream",
          "text": [
            "Digite sua idade: 15\n",
            "Com 15 anos, você NÃO pode votar\n"
          ],
          "name": "stdout"
        }
      ]
    }
  ]
}