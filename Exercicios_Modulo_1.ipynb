{
  "nbformat": 4,
  "nbformat_minor": 0,
  "metadata": {
    "colab": {
      "name": "Exercicios Modulo 1.ipynb",
      "provenance": [],
      "authorship_tag": "ABX9TyNFhxqGnkp7abcOF7Gla5Ah",
      "include_colab_link": true
    },
    "kernelspec": {
      "name": "python3",
      "display_name": "Python 3"
    },
    "language_info": {
      "name": "python"
    }
  },
  "cells": [
    {
      "cell_type": "markdown",
      "metadata": {
        "id": "view-in-github",
        "colab_type": "text"
      },
      "source": [
        "<a href=\"https://colab.research.google.com/github/asaito2001/PJC/blob/develop/Exercicios_Modulo_1.ipynb\" target=\"_parent\"><img src=\"https://colab.research.google.com/assets/colab-badge.svg\" alt=\"Open In Colab\"/></a>"
      ]
    },
    {
      "cell_type": "markdown",
      "metadata": {
        "id": "Bddo742YMljK"
      },
      "source": [
        "# Exercícios Módulo 1"
      ]
    },
    {
      "cell_type": "markdown",
      "metadata": {
        "id": "11PXj68-PAZT"
      },
      "source": [
        "1. Escreva um programa que recebe um número inteiro do usuário e responde se esse número é par ou não. Um número é dito par se ele é divisível por 2."
      ]
    },
    {
      "cell_type": "code",
      "metadata": {
        "colab": {
          "base_uri": "https://localhost:8080/"
        },
        "id": "vPc8MBkwMzL_",
        "outputId": "88aa6f8d-9c7a-4fbf-d3a2-02201cd9acd9"
      },
      "source": [
        "numero = input(\"Digite um número: \")\n",
        "numero = int(numero)\n",
        "\n",
        "if (numero % 2) == 1:\n",
        "  print(f\"O numero {numero} é ímpar\")\n",
        "else:\n",
        "  print(f\"O numero {numero} é par\")"
      ],
      "execution_count": 7,
      "outputs": [
        {
          "output_type": "stream",
          "text": [
            "Digite um número: 13\n",
            "O numero 13 é ímpar\n"
          ],
          "name": "stdout"
        }
      ]
    },
    {
      "cell_type": "markdown",
      "metadata": {
        "id": "CTLBq4JcPlr2"
      },
      "source": [
        "2. Reescreva o programa que avalia a obrigatoriedade do voto de outra forma, mas mantendo as 3 respostas corretas (obrigatório, facultativo, proibido)."
      ]
    },
    {
      "cell_type": "code",
      "metadata": {
        "id": "aivSB7StP4Eq"
      },
      "source": [
        ""
      ],
      "execution_count": null,
      "outputs": []
    }
  ]
}