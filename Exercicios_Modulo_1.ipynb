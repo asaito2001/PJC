{
  "nbformat": 4,
  "nbformat_minor": 0,
  "metadata": {
    "colab": {
      "name": "Exercicios Modulo 1.ipynb",
      "provenance": [],
      "authorship_tag": "ABX9TyMc7Kxt9xEiyjeftA/MXU19",
      "include_colab_link": true
    },
    "kernelspec": {
      "name": "python3",
      "display_name": "Python 3"
    },
    "language_info": {
      "name": "python"
    }
  },
  "cells": [
    {
      "cell_type": "markdown",
      "metadata": {
        "id": "view-in-github",
        "colab_type": "text"
      },
      "source": [
        "<a href=\"https://colab.research.google.com/github/asaito2001/PJC/blob/develop/Exercicios_Modulo_1.ipynb\" target=\"_parent\"><img src=\"https://colab.research.google.com/assets/colab-badge.svg\" alt=\"Open In Colab\"/></a>"
      ]
    },
    {
      "cell_type": "markdown",
      "metadata": {
        "id": "Bddo742YMljK"
      },
      "source": [
        "# Exercícios Módulo 1 :: Aula 1"
      ]
    },
    {
      "cell_type": "markdown",
      "metadata": {
        "id": "11PXj68-PAZT"
      },
      "source": [
        "1. Escreva um programa que recebe um número inteiro do usuário e responde se esse número é par ou não. Um número é dito par se ele é divisível por 2."
      ]
    },
    {
      "cell_type": "code",
      "metadata": {
        "colab": {
          "base_uri": "https://localhost:8080/"
        },
        "id": "vPc8MBkwMzL_",
        "outputId": "88aa6f8d-9c7a-4fbf-d3a2-02201cd9acd9"
      },
      "source": [
        "numero = input(\"Digite um número: \")\n",
        "numero = int(numero)\n",
        "\n",
        "if (numero % 2) == 1:\n",
        "  print(f\"O numero {numero} é ímpar\")\n",
        "else:\n",
        "  print(f\"O numero {numero} é par\")"
      ],
      "execution_count": null,
      "outputs": [
        {
          "output_type": "stream",
          "text": [
            "Digite um número: 13\n",
            "O numero 13 é ímpar\n"
          ],
          "name": "stdout"
        }
      ]
    },
    {
      "cell_type": "markdown",
      "metadata": {
        "id": "CTLBq4JcPlr2"
      },
      "source": [
        "2. Reescreva o programa que avalia a obrigatoriedade do voto de outra forma, mas mantendo as 3 respostas corretas (obrigatório, facultativo, proibido)."
      ]
    },
    {
      "cell_type": "code",
      "metadata": {
        "id": "aivSB7StP4Eq",
        "colab": {
          "base_uri": "https://localhost:8080/"
        },
        "outputId": "fdc26bb6-d984-46dd-c2d5-89b1614a6f71"
      },
      "source": [
        "idade = input(\"Digite a sua idade: \")\n",
        "idade = int(idade)\n",
        "\n",
        "if idade < 16:\n",
        "  print(f\"Proibido votar, pois você com seus {idade} anos ainda é muito novo.\")\n",
        "elif idade < 18 or idade > 69:\n",
        "  print(\"Voto facultativo\")\n",
        "else:\n",
        "  print(\"Voto obrigatório\")\n"
      ],
      "execution_count": 15,
      "outputs": [
        {
          "output_type": "stream",
          "text": [
            "Digite a sua idade: 14\n",
            "Proibido votar, pois você com seus 14 anos ainda é muito novo.\n"
          ],
          "name": "stdout"
        }
      ]
    },
    {
      "cell_type": "markdown",
      "metadata": {
        "id": "s1oxgliTmjJZ"
      },
      "source": [
        "# Mãos à obra: Praticando com Mini-Projetos"
      ]
    },
    {
      "cell_type": "markdown",
      "metadata": {
        "id": "1GqMr-NzmpYF"
      },
      "source": [
        "P1 Área do Triângulo!\n",
        "\n",
        "Nosso objetivo é fazer um programa que receba 3 valores que representem lados de um triângulo e, então, responda qual a área deste triângulo.\n",
        "\n",
        "Você pode calcular a área de um triângulo a partir da medida de seus lados utilizando a **fórmula de Heron**. Você pode calcular a raiz quadrada de um número elevando ele a 1/2 (meio) — lembre-se que em Python a potenciação pode ser feita com o operador **.\n",
        "\n",
        "Ex: 4**(1/2) resulta em 2.0.\n",
        "\n",
        "Repare que não é qualquer combinação de 3 valores que pode representar lados de um triângulo (**condição de existência de um triângulo**) . Caso os números recebidos não possam ser usados como lados de um triângulo, seu programa deve informar isso ao usuário."
      ]
    },
    {
      "cell_type": "code",
      "metadata": {
        "colab": {
          "base_uri": "https://localhost:8080/"
        },
        "id": "_qCLQ56am9Zh",
        "outputId": "44063c30-4934-4f35-8bd8-45b50e1e79a9"
      },
      "source": [
        "lado_a = int(input(\"Digite o lado a: \"))\n",
        "lado_b = int(input(\"Digite o lado b: \"))\n",
        "lado_c = int(input(\"Digite o lado c: \"))\n",
        "\n",
        "if (abs(lado_b - lado_c) < lado_a < (lado_b + lado_c)) and (abs(lado_a - lado_c) < lado_b < (lado_a + lado_c)) and (abs(lado_a - lado_b) < lado_c < (lado_a + lado_b)):\n",
        "  print(\"Condição válida para existência de um triângulo\")\n",
        "  semi_p = ((lado_a + lado_b + lado_c) // 2)\n",
        "  print(f\"Semi perimetro: {semi_p}\")\n",
        "  area_t = (semi_p * (semi_p - lado_a) * (semi_p - lado_b) * (semi_p - lado_c)) ** (1/2)\n",
        "  print(f\"Area do triângulo: {area_t}\")\n",
        "else:\n",
        "  print(\"Não é possível a existência de um triângulo\")"
      ],
      "execution_count": 32,
      "outputs": [
        {
          "output_type": "stream",
          "text": [
            "Digite o lado a: 5\n",
            "Digite o lado b: 10\n",
            "Digite o lado c: 9\n",
            "Condição válida para existência de um triângulo\n",
            "Semi perimetro: 12\n",
            "Area do triângulo: 22.44994432064365\n"
          ],
          "name": "stdout"
        }
      ]
    },
    {
      "cell_type": "markdown",
      "metadata": {
        "id": "Sdj9JNp43-_z"
      },
      "source": [
        "**P2 Pedra, Papel e Tesoura!**\n",
        "\n",
        "**Nosso objetivo é implementar o jogo \"Pedra, Papel e Tesoura\"**, utilizando a linha de comando.\n",
        "\n",
        "O jogo é bem simples. Teremos 2 jogadores que deverão escolher entre *pedra*, *papel* ou *tesoura*. Após ambos terem escolhido com qual objeto jogar, deve-se declarar o resultado segundo as regras seguintes:\n",
        "\n",
        "I. Pedra vence Tesoura.\n",
        "\n",
        "II. Tesoura vence Papel.\n",
        "\n",
        "III. Papel vence Pedra.\n",
        "\n",
        "IV. Quando ambos são iguais, temos um empate.\n",
        "\n",
        "Na vida real, ambos os jogadores escolhem ao mesmo tempo, mostrando suas mãos. Ainda não sabemos como fazer isso, então nosso programa vai funcionar da seguinte maneira:\n",
        "\n",
        "I. Ao executar o programa, ele deve escrever o nome do jogo e pedir que o jogador 1 faça sua escolha.\n",
        "\n",
        "II. O programa aguarda o jogador 1 digitar sua escolha e pressionar *Enter*\n",
        "\n",
        "III. O programa pede que o jogador 2 digite sua escolha\n",
        "\n",
        "IV. O programa aguarda o jogador 2 digitar sua escolha e pressionar *Enter*\n",
        "\n",
        "V. O programa analisa as 2 escolhas e declara o campeão ou um empate\n",
        "\n",
        "Obs: O jogador 1 está em clara desvantagem, pois o jogador 2 escolhe já sabendo como ganhar. Não se preocupe com isso agora, mantenha o foco na correta interpretação dos resultados. Poderemos corrigir esta desvantagem quando aprendermos a usar alguns módulos da linguagem."
      ]
    },
    {
      "cell_type": "code",
      "metadata": {
        "colab": {
          "base_uri": "https://localhost:8080/"
        },
        "id": "gTbHTVCb4KEF",
        "outputId": "6f6f139d-12e0-42ba-ae25-de08a4201fbe"
      },
      "source": [
        "print(\":: PEDRA PAPEL TESOURA ::\")\n",
        "\n",
        "# Escolha do Jogador 1\n",
        "gamer1 = input(\"Jogador 1: Escolha pedra papel tesoura : \")\n",
        "\n",
        "# Escolha do Jogador 2\n",
        "gamer2 = input(\"Jogador 2: Escolha pedra papel tesoura : \")\n",
        "\n",
        "# Verificar quem foi o vencedor\n",
        "if (gamer1.lower() == 'pedra' and gamer2.lower() == 'tesoura') or (gamer1.lower() == 'tesoura' and gamer2.lower() == 'papel') or (gamer1.lower() == 'papel' and gamer2.lower() == 'pedra'):\n",
        "  print(f\"Jogador 1 vence!! {gamer1} vence {gamer2}\")\n",
        "elif gamer1.lower() == gamer2.lower():\n",
        "  print(f\"Temos um empate senhores!! Ambos escolheram {gamer1}\")\n",
        "else:\n",
        "  print(f\"Jogador 2 vence!! {gamer2} vence {gamer1}\")"
      ],
      "execution_count": 40,
      "outputs": [
        {
          "output_type": "stream",
          "text": [
            ":: PEDRA PAPEL TESOURA ::\n",
            "Jogador 1: Escolha pedra papel tesoura : Pedra\n",
            "Jogador 2: Escolha pedra papel tesoura : Papel\n",
            "Jogador 2 vence!! Papel vence Pedra\n"
          ],
          "name": "stdout"
        }
      ]
    },
    {
      "cell_type": "markdown",
      "metadata": {
        "id": "NLzfCifsa7ME"
      },
      "source": [
        "# Exercícios Módulo 1 :: Aula 2"
      ]
    },
    {
      "cell_type": "markdown",
      "metadata": {
        "id": "FDqJQ937bF2Y"
      },
      "source": [
        "1. Faça um programa que recebe uma lista de números reais e exibe o seu maior elemento."
      ]
    },
    {
      "cell_type": "code",
      "metadata": {
        "colab": {
          "base_uri": "https://localhost:8080/"
        },
        "id": "xjUIVzjefGIE",
        "outputId": "0214cff6-9395-409e-f43f-4eeebbbbc0f8"
      },
      "source": [
        "lista = [1.9, 3.5, 35.0, 0.5, 31.5]\n",
        "maior = lista[0]\n",
        "\n",
        "for iter_lista in range (0, len(lista), 1):\n",
        "  if lista[iter_lista] > maior:\n",
        "    maior = lista[iter_lista]\n",
        "\n",
        "print(f'O maior valor da lista: {maior}')"
      ],
      "execution_count": 58,
      "outputs": [
        {
          "output_type": "stream",
          "text": [
            "O maior valor da lista: 35.0\n"
          ],
          "name": "stdout"
        }
      ]
    },
    {
      "cell_type": "markdown",
      "metadata": {
        "id": "eYIaU2Y8ikvF"
      },
      "source": [
        "2. Faça um programa que recebe uma lista de números reais e exibe sua média."
      ]
    },
    {
      "cell_type": "code",
      "metadata": {
        "colab": {
          "base_uri": "https://localhost:8080/"
        },
        "id": "dBuRBwnnisBs",
        "outputId": "2a6b326f-d40e-4e6a-fcdd-aec27749d3bb"
      },
      "source": [
        "lista = [1.9, 3.5, 35.0, 0.5, 31.5]\n",
        "qtde_valores = len(lista)\n",
        "acumulador = 0\n",
        "\n",
        "for iter_lista in range (0, len(lista), 1):\n",
        "  acumulador = acumulador + lista[iter_lista]\n",
        "\n",
        "media = acumulador / qtde_valores\n",
        "print(f'A média dos valores da lista: {media}')"
      ],
      "execution_count": 61,
      "outputs": [
        {
          "output_type": "stream",
          "text": [
            "A média dos valores da lista: 14.48\n"
          ],
          "name": "stdout"
        }
      ]
    },
    {
      "cell_type": "markdown",
      "metadata": {
        "id": "MNTnpWN0j-Es"
      },
      "source": [
        "3. Dada uma lista de números inteiros, faça um programa que responda a soma de todos os números pares na lista e o produto de todos os números ímpares."
      ]
    },
    {
      "cell_type": "code",
      "metadata": {
        "colab": {
          "base_uri": "https://localhost:8080/"
        },
        "id": "cq1xKyhlkCvU",
        "outputId": "cb7aaa75-1275-40a2-f5d9-84aa61107bb8"
      },
      "source": [
        "lista = [1, 2, 3, 4, 5, 6, 7, 8, 9, 10]\n",
        "soma_pares = 0\n",
        "multiplica_impares = 1\n",
        "\n",
        "for i in range (0, len(lista), 1):\n",
        "  if (lista[i] % 2) == 0:\n",
        "    soma_pares = soma_pares + lista[i]\n",
        "  else:\n",
        "    multiplica_impares = multiplica_impares * lista[i]\n",
        "\n",
        "print(f'Soma todos pares : {soma_pares} | Produto todos ímpares : {multiplica_impares}')"
      ],
      "execution_count": 65,
      "outputs": [
        {
          "output_type": "stream",
          "text": [
            "Soma todos pares : 30 | Produto todos ímpares : 945\n"
          ],
          "name": "stdout"
        }
      ]
    },
    {
      "cell_type": "markdown",
      "metadata": {
        "id": "28pp-3o8mBJ4"
      },
      "source": [
        "4. Faça um programa que receba um número e exiba o fatorial desse número."
      ]
    },
    {
      "cell_type": "code",
      "metadata": {
        "colab": {
          "base_uri": "https://localhost:8080/"
        },
        "id": "TH6E0-cXmFV8",
        "outputId": "d6a8bd50-b3f4-4d71-9cad-b36e7d512c89"
      },
      "source": [
        "numero = int(input('Digite um número: '))\n",
        "resultado = 1\n",
        "\n",
        "while numero > 1:\n",
        "  resultado = resultado * numero\n",
        "  numero = numero - 1\n",
        "\n",
        "print(f'Fatorial é {resultado}')"
      ],
      "execution_count": 78,
      "outputs": [
        {
          "output_type": "stream",
          "text": [
            "Digite um número: 3\n",
            "Fatorial é 6\n"
          ],
          "name": "stdout"
        }
      ]
    }
  ]
}